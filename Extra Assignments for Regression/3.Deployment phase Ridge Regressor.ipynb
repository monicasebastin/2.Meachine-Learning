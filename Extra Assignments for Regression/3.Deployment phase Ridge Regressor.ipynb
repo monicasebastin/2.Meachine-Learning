{
 "cells": [
  {
   "cell_type": "code",
   "execution_count": 1,
   "id": "13655f8f-ac73-4f2f-9850-6f02a7d5cf17",
   "metadata": {},
   "outputs": [],
   "source": [
    "import pandas as pd\n",
    "dataset=pd.read_csv(\"insurance_pre.csv\")\n",
    "dataset=pd.get_dummies(dataset,dtype=int,drop_first=True)\n",
    "dataset.columns\n",
    "independent=dataset[['age', 'bmi', 'children', 'sex_male', 'smoker_yes']]\n",
    "independent\n",
    "dependent=dataset[['charges']]"
   ]
  },
  {
   "cell_type": "code",
   "execution_count": 2,
   "id": "1f9b7b92-0b23-4643-b690-a6fe60fa9a7b",
   "metadata": {},
   "outputs": [],
   "source": [
    "from sklearn.model_selection import train_test_split\n",
    "X_train,X_test,Y_train,Y_test=train_test_split(independent,dependent,test_size=0.30,random_state=0)"
   ]
  },
  {
   "cell_type": "code",
   "execution_count": 3,
   "id": "cacfc917-8f30-4ff2-bb97-7b1b9d7a2180",
   "metadata": {},
   "outputs": [],
   "source": [
    "from sklearn.preprocessing import StandardScaler\n",
    "sc=StandardScaler()\n",
    "X_train=sc.fit_transform(X_train)\n",
    "X_test=sc.transform(X_test)"
   ]
  },
  {
   "cell_type": "code",
   "execution_count": 1,
   "id": "0cd1a7fe-a2d9-4d8a-a618-61e6d661d1a6",
   "metadata": {},
   "outputs": [
    {
     "name": "stdin",
     "output_type": "stream",
     "text": [
      "Age (e.g. 35):  29\n",
      "BMI (e.g. 26.5):  26\n",
      "Number of children (e.g. 2):  1\n",
      "Sex male 0 or 1: 1\n",
      "Smoker (1 or 0):  0\n"
     ]
    },
    {
     "name": "stdout",
     "output_type": "stream",
     "text": [
      "\n",
      "Predicted Result: [[170506.49625872]]\n"
     ]
    }
   ],
   "source": [
    "import pickle\n",
    "\n",
    "age = float(input(\"Age (e.g. 35): \"))\n",
    "bmi = float(input(\"BMI (e.g. 26.5): \"))\n",
    "children = int(input(\"Number of children (e.g. 2): \"))\n",
    "sex_male=float(input(\"Sex male 0 or 1:\"))\n",
    "smoker_yes = int(input(\"Smoker (1 or 0): \"))\n",
    "\n",
    "loaded_model=pickle.load(open(\"3.finalized_model_Ridge_Regressor.sav\", \"rb\"))\n",
    "result=loaded_model.predict([[age, bmi, children, sex_male, smoker_yes]])\n",
    "\n",
    "    # Show the prediction result\n",
    "print(f\"\\nPredicted Result:\",result)\n"
   ]
  },
  {
   "cell_type": "code",
   "execution_count": null,
   "id": "9bd1d440-f2fa-4a9b-a9c4-827054eafe06",
   "metadata": {},
   "outputs": [],
   "source": []
  }
 ],
 "metadata": {
  "kernelspec": {
   "display_name": "Python [conda env:base] *",
   "language": "python",
   "name": "conda-base-py"
  },
  "language_info": {
   "codemirror_mode": {
    "name": "ipython",
    "version": 3
   },
   "file_extension": ".py",
   "mimetype": "text/x-python",
   "name": "python",
   "nbconvert_exporter": "python",
   "pygments_lexer": "ipython3",
   "version": "3.12.7"
  }
 },
 "nbformat": 4,
 "nbformat_minor": 5
}
