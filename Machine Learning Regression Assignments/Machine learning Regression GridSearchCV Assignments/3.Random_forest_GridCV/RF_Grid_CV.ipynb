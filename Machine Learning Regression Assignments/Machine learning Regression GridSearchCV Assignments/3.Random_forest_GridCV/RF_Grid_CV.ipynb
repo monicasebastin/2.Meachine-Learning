{
 "cells": [
  {
   "cell_type": "code",
   "execution_count": null,
   "id": "1f42523e-f97c-4f7f-8ad9-408ab054f3dd",
   "metadata": {},
   "outputs": [],
   "source": [
    "import pandas as pd\n",
    "dataset=pd.read_csv(\"insurance_pre.csv\")\n",
    "dataset=pd.get_dummies(dataset,dtype=int,drop_first=True)\n",
    "dataset.columns\n",
    "independent=dataset[['age', 'bmi', 'children', 'sex_male', 'smoker_yes']]\n",
    "independent\n",
    "dependent=dataset[['charges']]"
   ]
  },
  {
   "cell_type": "code",
   "execution_count": null,
   "id": "9c171cdb-4f6e-4966-9b30-d267435ac075",
   "metadata": {},
   "outputs": [],
   "source": [
    "from sklearn.model_selection import GridSearchCV\n",
    "from sklearn.tree import RandomForestRegressor\n",
    "param_grid={'criterion':['mse','mae'],\n",
    "            'max_features':['auto','sqrt','log2'],'n_estimators':[10,100]}\n",
    "\n",
    "grid=GridSearchCV(RandomForestRegressor(),param_grid,refit=True,verbose=3,n_jobs=-1)\n",
    "\n",
    "#fitting the model for grid search\n",
    "grid.fit(indep,dep)"
   ]
  },
  {
   "cell_type": "code",
   "execution_count": null,
   "id": "ab0356ce-296c-46d8-bd95-c9be1e8fd507",
   "metadata": {},
   "outputs": [],
   "source": [
    "#print best parameter after tuning\n",
    "re=grid.cv_results_\n",
    "print(\"The R_score valued for best parameter{}:\".format(grid.best_params__))"
   ]
  },
  {
   "cell_type": "code",
   "execution_count": null,
   "id": "d0a283e3-8897-4c36-9345-6eeca9a1a857",
   "metadata": {},
   "outputs": [],
   "source": [
    "table=pd.DataFrame.from_dict(re)\n",
    "table"
   ]
  },
  {
   "cell_type": "code",
   "execution_count": null,
   "id": "d75f57c0-4563-4568-a733-8b306252231a",
   "metadata": {},
   "outputs": [],
   "source": [
    "age_input=float(input(\"Age:\"))\n",
    "bmi_input=float(input(\"BMI:\"))\n",
    "children_input=float(input(\"Children:\"))\n",
    "sex_male_input=int(input(\"Sex Male 0 or 1:\"))\n",
    "smoker_yes_input=int(input(\"Smoker Yes 0 or 1:\"))"
   ]
  },
  {
   "cell_type": "code",
   "execution_count": null,
   "id": "094e0800-da6c-4ac9-90d1-faa556e58a18",
   "metadata": {},
   "outputs": [],
   "source": [
    "Future_Prediction=grid.predict)[[age_input,bmi_input,children_input,sex_male_input,smoker_yes_input]])\n",
    "print(\"Future_Prediction={}\".format(Future_Prediction)"
   ]
  }
 ],
 "metadata": {
  "kernelspec": {
   "display_name": "Python [conda env:base] *",
   "language": "python",
   "name": "conda-base-py"
  },
  "language_info": {
   "codemirror_mode": {
    "name": "ipython",
    "version": 3
   },
   "file_extension": ".py",
   "mimetype": "text/x-python",
   "name": "python",
   "nbconvert_exporter": "python",
   "pygments_lexer": "ipython3",
   "version": "3.12.7"
  }
 },
 "nbformat": 4,
 "nbformat_minor": 5
}
