{
 "cells": [
  {
   "cell_type": "code",
   "execution_count": null,
   "id": "1b25a81f-0a05-41b7-bf1c-0be29d71908b",
   "metadata": {},
   "outputs": [],
   "source": [
    "import pandas as pd\n",
    "dataset=pd.read_csv(\"insurance_pre.csv\")\n",
    "dataset=pd.get_dummies(dataset,dtype=int,drop_first=True)\n",
    "dataset.columns\n",
    "independent=dataset[['age', 'bmi', 'children', 'sex_male', 'smoker_yes']]\n",
    "independent\n",
    "dependent=dataset[['charges']]\n",
    "#from sklearn.model_selection import train_test_split\n",
    "#X_train,X_test,Y_train,Y_test=train_test_split(independent,dependent,test_size=0.30,random_state=0)"
   ]
  },
  {
   "cell_type": "code",
   "execution_count": null,
   "id": "e603892d-b27f-45fd-9ae7-81554d5bf99f",
   "metadata": {},
   "outputs": [],
   "source": [
    "dataset"
   ]
  },
  {
   "cell_type": "code",
   "execution_count": null,
   "id": "8b529393-bf63-4bc9-9db7-52a986d40ba6",
   "metadata": {},
   "outputs": [],
   "source": [
    "independent"
   ]
  },
  {
   "cell_type": "code",
   "execution_count": null,
   "id": "18247113-91c2-4e74-9d2e-6d7ecebee31c",
   "metadata": {},
   "outputs": [],
   "source": [
    "dependent"
   ]
  },
  {
   "cell_type": "code",
   "execution_count": null,
   "id": "8fc9e883-9d0e-4934-9847-9c3acce04d18",
   "metadata": {},
   "outputs": [],
   "source": [
    "from sklearn.model_selection import GridSearchCV\n",
    "from sklearn.svm import SVR\n",
    "param_grid={'kernel':['rbf','poly','sigmoid','linear'],\n",
    "            'C':[10,100,1000,2000,3000],'gamma':['auto','scale']}\n",
    "\n",
    "grid=GridSearchCV(SVR(),param_grid,refit=True,verbose=3,n_jobs=-1)\n",
    "\n",
    "#fitting the model for grid search\n",
    "#grid.fit(X_train,Y_train)\n",
    "grid.fit(indep,dep)\n",
    "\n",
    "\n",
    "\n"
   ]
  },
  {
   "cell_type": "code",
   "execution_count": null,
   "id": "c0203a97-781e-4f92-9453-415a76943c18",
   "metadata": {},
   "outputs": [],
   "source": [
    "#print best parameter after tuning\n",
    "#print(grid.best_params_)\n",
    "re=grid.cv_results_\n",
    "#print(re)\n",
    "'''\n",
    "grid_predictions=grid.predict(X_test)\n",
    "\n",
    "#print classification report\n",
    "from sklearn.metrics import r2_score\n",
    "r_score=r2_score(y_test,grid_predictions)\n",
    "print(\"The R_score valued for best parameter{}:\".format(grid.best_params__,r_score))\n",
    "'''\n",
    "print(\"The R_score valued for best parameter{}:\".format(grid.best_params__))"
   ]
  },
  {
   "cell_type": "code",
   "execution_count": null,
   "id": "fcc9ea69-7dce-4b10-9704-70c73e68f2ad",
   "metadata": {},
   "outputs": [],
   "source": [
    "table=pd.DataFrame.from_dict(re)\n",
    "table\n"
   ]
  },
  {
   "cell_type": "code",
   "execution_count": null,
   "id": "68130192-f884-4e64-8ceb-2ea974d4248e",
   "metadata": {},
   "outputs": [],
   "source": [
    "age_input=float(input(\"Age:\"))\n",
    "bmi_input=float(input(\"BMI:\"))\n",
    "children_input=float(input(\"Children:\"))\n",
    "sex_male_input=int(input(\"Sex Male 0 or 1:\"))\n",
    "smoker_yes_input=int(input(\"Smoker Yes 0 or 1:\"))\n"
   ]
  },
  {
   "cell_type": "code",
   "execution_count": null,
   "id": "597aa7e8-d148-4cd8-b4d5-24457cc13b68",
   "metadata": {},
   "outputs": [],
   "source": [
    "Future_Prediction=grid.predict)[[age_input,bmi_input,children_input,sex_male_input,smoker_yes_input]])\n",
    "print(\"Future_Prediction={}\".format(Future_Prediction)"
   ]
  }
 ],
 "metadata": {
  "kernelspec": {
   "display_name": "Python [conda env:base] *",
   "language": "python",
   "name": "conda-base-py"
  },
  "language_info": {
   "codemirror_mode": {
    "name": "ipython",
    "version": 3
   },
   "file_extension": ".py",
   "mimetype": "text/x-python",
   "name": "python",
   "nbconvert_exporter": "python",
   "pygments_lexer": "ipython3",
   "version": "3.12.7"
  }
 },
 "nbformat": 4,
 "nbformat_minor": 5
}
